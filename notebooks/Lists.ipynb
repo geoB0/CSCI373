{
 "cells": [
  {
   "cell_type": "code",
   "execution_count": 14,
   "metadata": {
    "slideshow": {
     "slide_type": "skip"
    }
   },
   "outputs": [],
   "source": [
    "#include <iostream>\n",
    "#include <iomanip>\n",
    "#include <exception>\n",
    "#include <stdexcept>\n",
    "using namespace std;\n",
    "std::cout << std::boolalpha; "
   ]
  },
  {
   "cell_type": "markdown",
   "metadata": {
    "slideshow": {
     "slide_type": "slide"
    }
   },
   "source": [
    "# Lists"
   ]
  },
  {
   "cell_type": "markdown",
   "metadata": {
    "slideshow": {
     "slide_type": "slide"
    }
   },
   "source": [
    "## Outline\n",
    "\n",
    "- The `Node` and `List` classes\n",
    "- Accessors and mutators\n",
    "- The implementation of various member functions\n",
    "- Stepping through a linked list\n",
    "- Defining the copy and assignment operator\n",
    "- Defining move constructors and move assignment operators\n",
    "- Discussed efficiencies"
   ]
  },
  {
   "cell_type": "markdown",
   "metadata": {
    "slideshow": {
     "slide_type": "slide"
    }
   },
   "source": [
    "## Linked List\n",
    "\n",
    "- A **linked list** is a data structure consisting of a sequence of nodes where each object is stored in a **node**\n",
    "\n",
    "- As well as storing data, the node must also contains a **reference/pointer** to the node containing the **next item** of data\n",
    "\n",
    "![](../img/linked-list.png)"
   ]
  },
  {
   "cell_type": "markdown",
   "metadata": {
    "slideshow": {
     "slide_type": "slide"
    }
   },
   "source": [
    "## Linked List (cont.)\n",
    "\n",
    "- The node are dynamically createed in a linked list\n",
    "\n",
    "- Thus, because **new** returns a pointer, the logical manner in which to track a linked lists is through a pointer\n",
    "\n",
    "- A `Node` class must store the **data** and a **reference** to the next node (also a pointer)\n",
    "\n",
    "![](../img/list-node.png)"
   ]
  },
  {
   "cell_type": "code",
   "execution_count": 2,
   "metadata": {
    "slideshow": {
     "slide_type": "slide"
    }
   },
   "outputs": [],
   "source": [
    "class Node {\n",
    "public:\n",
    "    Node( int = 0, Node * = nullptr );\n",
    "\n",
    "    int value() const;\n",
    "    Node* next() const;\n",
    "\n",
    "private:\n",
    "    int node_value;\n",
    "    Node *next_node;\n",
    "};"
   ]
  },
  {
   "cell_type": "markdown",
   "metadata": {
    "slideshow": {
     "slide_type": "slide"
    }
   },
   "source": [
    "## Constructor\n",
    "\n",
    "- The constructor assigns the two member variables based on the arguments"
   ]
  },
  {
   "cell_type": "code",
   "execution_count": 3,
   "metadata": {
    "slideshow": {
     "slide_type": "fragment"
    }
   },
   "outputs": [],
   "source": [
    "Node::Node( int e, Node *n ): node_value( e ), next_node( n ) {\n",
    "    // empty constructor\n",
    "}"
   ]
  },
  {
   "cell_type": "markdown",
   "metadata": {
    "slideshow": {
     "slide_type": "slide"
    }
   },
   "source": [
    "## Accessors\n",
    "\n",
    "- The two member functions are accessors which simply return the `node_value` and the `next_node` member variables, respectively\n",
    "    - Member functions that do not change the object acted upon are variously called *accessors*, *readonly functions*, *inspectors*, and, when it involves simply returning a member variable, *getters*"
   ]
  },
  {
   "cell_type": "code",
   "execution_count": 4,
   "metadata": {
    "slideshow": {
     "slide_type": "fragment"
    }
   },
   "outputs": [],
   "source": [
    "int Node::value() const {\n",
    "  return node_value;\n",
    "}"
   ]
  },
  {
   "cell_type": "code",
   "execution_count": 5,
   "metadata": {
    "slideshow": {
     "slide_type": "fragment"
    }
   },
   "outputs": [],
   "source": [
    "Node* Node::next() const {\n",
    "    return next_node;\n",
    "}"
   ]
  },
  {
   "attachments": {},
   "cell_type": "markdown",
   "metadata": {
    "slideshow": {
     "slide_type": "slide"
    }
   },
   "source": [
    "## Accessors (cont.)\n",
    "\n",
    "- In C++, a member function cannot have the same name as a member variable\n",
    "\n",
    "|                     | Member Variables | Member Functions |\n",
    "|--------------------:|:----------------:|:----------------:|\n",
    "| Vary capitalization | next_node        | Next_node() or NextNode() |\n",
    "| Prefix with \"get\"   | next_node        | get_next_node() / getNextNode() |\n",
    "| Use an underscore   | next_node_       | next_node() |\n",
    "| Different names     | next_node        | next() |\n",
    "\n",
    "- Always use the naming convention and coding styles used by your employer - even if you disagree with them\n",
    "  - Consistency aids in maintenance"
   ]
  },
  {
   "cell_type": "markdown",
   "metadata": {
    "slideshow": {
     "slide_type": "slide"
    }
   },
   "source": [
    "## Linked List Class\n",
    "\n",
    "- Because each node in a linked lists refers to the next, the linked list class need only link to the first node in the list\n",
    "\n",
    "- The linked list class requires member variable: a pointer to a node\n",
    "\n",
    "```cpp\n",
    "class List {\n",
    "    public:\n",
    "        class Node {...};\n",
    "\n",
    "    private:\n",
    "        Node *list_head;\n",
    "    // ...\n",
    "};\n",
    "```"
   ]
  },
  {
   "cell_type": "markdown",
   "metadata": {
    "slideshow": {
     "slide_type": "slide"
    }
   },
   "source": [
    "## Structure\n",
    "\n",
    "- To begin, let us look at the internal representation of a linked list\n",
    "\n",
    "- Suppose we want a linked list to store the values in this order\n",
    "\n",
    "    42  95  70  81\n"
   ]
  },
  {
   "cell_type": "markdown",
   "metadata": {
    "slideshow": {
     "slide_type": "slide"
    }
   },
   "source": [
    "## Structure (cont.)\n",
    "\n",
    "- A linked list uses *linked allocation*, and therefore each node may appear anywhere in memory\n",
    "\n",
    "- Also the memory required for each node equals the memory required by the member variables\n",
    "    - 4 bytes for the linked list (a pointer)\n",
    "    - 8 bytes for each node (an int and a pointer)\n",
    "        - We are assuming a 32-bit machine\n"
   ]
  },
  {
   "cell_type": "markdown",
   "metadata": {
    "slideshow": {
     "slide_type": "slide"
    }
   },
   "source": [
    "## Structure (cont.)\n",
    "\n",
    "- Such a list could occupy memory as follows:\n",
    "    - The `next_node` pointers store the addresses of the next node in the list\n",
    "\n",
    "![](../img/linked-list-example.png)"
   ]
  },
  {
   "cell_type": "markdown",
   "metadata": {
    "slideshow": {
     "slide_type": "slide"
    }
   },
   "source": [
    "## Structure (cont.)\n",
    "\n",
    "- Because the addresses are arbitrary, we can remove that information:\n",
    "\n",
    "![](../img/linked-list-example2.png)"
   ]
  },
  {
   "cell_type": "markdown",
   "metadata": {
    "slideshow": {
     "slide_type": "slide"
    }
   },
   "source": [
    "## Structure (cont.)\n",
    "\n",
    "- We will clean up the representation as follows:\n",
    "\n",
    "![](../img/linked-list-example3.png)\n",
    "\t\n",
    "- We do not specify the addresses because they are arbitrary and:\n",
    "    - The contents of the circle is the value\n",
    "    - The `next_node` pointer is represented by an arrow"
   ]
  },
  {
   "cell_type": "markdown",
   "metadata": {
    "slideshow": {
     "slide_type": "slide"
    }
   },
   "source": [
    "## Operations\n",
    "\n",
    "- First, we want to create a linked list\n",
    "\n",
    "- We also want to be able to manage the stored values in the linked list\n",
    "    - insert into,\n",
    "    - access, and\n",
    "    - erase from"
   ]
  },
  {
   "cell_type": "markdown",
   "metadata": {
    "slideshow": {
     "slide_type": "slide"
    }
   },
   "source": [
    "## Operations (cont.)\n",
    "\n",
    "- We can do them with the following operations:\n",
    "    - Adding, retrieving, or removing the value at the front of the linked list\n",
    "```cpp\n",
    "void push_front( int );\n",
    "int front() const;\n",
    "void pop_front();\n",
    "```\n",
    "    - We may also want to access the head of the linked list\n",
    "``` cpp\n",
    "Node *begin() const;\n",
    "```\n",
    "\n",
    "- Member functions that may change the object acted upon are variously called *mutators*, *modifiers*, and, when it involves changing a single member variable, *setters*"
   ]
  },
  {
   "cell_type": "markdown",
   "metadata": {
    "slideshow": {
     "slide_type": "slide"
    }
   },
   "source": [
    "## Operations (cont.)\n",
    "\n",
    "- All these operations relate to the first node of the linked list\n",
    "\n",
    "- We may want to perform operations on an arbitrary node of the linked list, for example:\n",
    "\n",
    "- Find the number of instances of an integer in the list:\n",
    "```cpp\n",
    "int count( int ) const;\n",
    "```\n",
    "\n",
    "- Remove all instances of an integer from the list:\n",
    "```cpp\n",
    "int erase( int );\n",
    "```"
   ]
  },
  {
   "cell_type": "markdown",
   "metadata": {
    "slideshow": {
     "slide_type": "slide"
    }
   },
   "source": [
    "## Capacity\n",
    "\n",
    "- Additionally, we may wish to check the state: \n",
    "    - Is the linked list empty?\n",
    "```cpp\n",
    "bool empty() const;\n",
    "```\n",
    "    - How many objects are in the list?\n",
    "```cpp\n",
    "int size() const;\n",
    "```\n",
    "\n",
    "- The list is empty when the `list_head` pointer is set to `nullptr`"
   ]
  },
  {
   "cell_type": "markdown",
   "metadata": {
    "slideshow": {
     "slide_type": "slide"
    }
   },
   "source": [
    "Consider this simple (but **incomplete**) linked list class:"
   ]
  },
  {
   "cell_type": "code",
   "execution_count": 6,
   "metadata": {
    "slideshow": {
     "slide_type": "slide"
    }
   },
   "outputs": [],
   "source": [
    "class List {\n",
    "    public:\n",
    "        //class Node {...}; // we defined it outside of the List class scope\n",
    "        List();\n",
    "\n",
    "        // Accessors\n",
    "        bool empty() const;\n",
    "        int size() const;\n",
    "        int front() const;\n",
    "        Node *begin() const;\n",
    "        Node *end() const;\n",
    "        int count( int ) const;\n",
    "\n",
    "        // Mutators\n",
    "        void push_front( int );\n",
    "        int pop_front();\n",
    "        int erase( int );\n",
    "\n",
    "    private:\n",
    "        Node *list_head;\n",
    "};"
   ]
  },
  {
   "cell_type": "markdown",
   "metadata": {
    "slideshow": {
     "slide_type": "slide"
    }
   },
   "source": [
    "## Constructor\n",
    "\n",
    "- The constructor initializes the linked list\n",
    "    - We do not count how may objects are in this list, thus:\n",
    "        - we must rely on the last pointer in the linked list to point to a special value\n",
    "        - in C++, that standard value is `nullptr`\n",
    "\n",
    "- Thus, in the constructor, we assign `list_head` the value `nullptr`\n",
    "\n",
    "- We will always ensure that when a linked list is empty, the list head is assigned `nullptr`"
   ]
  },
  {
   "cell_type": "code",
   "execution_count": 7,
   "metadata": {
    "slideshow": {
     "slide_type": "fragment"
    }
   },
   "outputs": [],
   "source": [
    "List::List(): list_head( nullptr ) { } // empty constructor"
   ]
  },
  {
   "cell_type": "markdown",
   "metadata": {
    "slideshow": {
     "slide_type": "slide"
    }
   },
   "source": [
    "## Allocation\n",
    "\n",
    "The constructor is called whenever an object is created, either:\n",
    "\n",
    "- Statically\n",
    "    - The following statement defines `ls` to be a linked list and the compiler deals with memory allocation\n",
    "```cpp\n",
    "List ls;\n",
    "```\n",
    "\n",
    "- Dynamically\n",
    "\t- The following statement requests sufficient memory from the OS to store an instance of the class\n",
    "```cpp\n",
    "List *pls = new List();\n",
    "```\n",
    "\n",
    "- In both cases, the memory is allocated and then the constructor is called"
   ]
  },
  {
   "cell_type": "markdown",
   "metadata": {
    "slideshow": {
     "slide_type": "slide"
    }
   },
   "source": [
    "## Static Allocation"
   ]
  },
  {
   "cell_type": "code",
   "execution_count": 8,
   "metadata": {
    "slideshow": {
     "slide_type": "fragment"
    }
   },
   "outputs": [],
   "source": [
    "int f() {\n",
    "    List ls;   // ls is declared as a local variable on the stack\n",
    "\n",
    "    ls.push_front( 3 );\n",
    "    cout << ls.front() << endl;\n",
    "\n",
    "    // The return value is evaluated\n",
    "    // The compiler then calls the destructor for local variables\n",
    "    // The memory allocated for 'ls' is deallocated\n",
    "\n",
    "    return 0;\n",
    "}"
   ]
  },
  {
   "cell_type": "markdown",
   "metadata": {
    "slideshow": {
     "slide_type": "slide"
    }
   },
   "source": [
    "## Dynamic Allocation"
   ]
  },
  {
   "cell_type": "code",
   "execution_count": 9,
   "metadata": {
    "slideshow": {
     "slide_type": "fragment"
    }
   },
   "outputs": [],
   "source": [
    "List *f( int n ) {\n",
    "    List *pls = new List();  // pls is allocated memory by the OS\n",
    "\n",
    "    pls->push_front( n );\n",
    "    cout << pls->front() << endl;\n",
    "\n",
    "    // The address of the linked list is the return value\n",
    "    // After this, the 4 bytes for the pointer 'pls' is deallocated\n",
    "    // The memory allocated for the linked list is still there\n",
    "\n",
    "    return pls;\n",
    "}"
   ]
  },
  {
   "cell_type": "markdown",
   "metadata": {
    "slideshow": {
     "slide_type": "slide"
    }
   },
   "source": [
    "## `empty()`\n",
    "\n",
    "- Starting with the easier member functions:\n",
    "```cpp\n",
    "bool List::empty() const {\n",
    "    if ( list_head == nullptr ) {\n",
    "        return true;\n",
    "    } else {\n",
    "        return false;\n",
    "    }\n",
    "}   \n",
    "```\n",
    "\n",
    "- Better yet:"
   ]
  },
  {
   "cell_type": "code",
   "execution_count": 10,
   "metadata": {
    "slideshow": {
     "slide_type": "fragment"
    }
   },
   "outputs": [],
   "source": [
    "bool List::empty() const {\n",
    "    return ( list_head == nullptr );\n",
    "}"
   ]
  },
  {
   "cell_type": "markdown",
   "metadata": {
    "slideshow": {
     "slide_type": "slide"
    }
   },
   "source": [
    "## `begin()`\n",
    "\n",
    "- The member function `Node *begin() const` is easy enough to implement:"
   ]
  },
  {
   "cell_type": "code",
   "execution_count": 11,
   "metadata": {
    "slideshow": {
     "slide_type": "fragment"
    }
   },
   "outputs": [],
   "source": [
    "Node *List::begin() const {\n",
    "    return list_head;\n",
    "}"
   ]
  },
  {
   "cell_type": "markdown",
   "metadata": {
    "slideshow": {
     "slide_type": "fragment"
    }
   },
   "source": [
    "- This will always work: if the list is empty, it will return `nullptr`"
   ]
  },
  {
   "cell_type": "markdown",
   "metadata": {
    "slideshow": {
     "slide_type": "slide"
    }
   },
   "source": [
    "## `end()`\n",
    "\n",
    "- The member function `Node *end() const` equals whatever the last node in the linked list points to"
   ]
  },
  {
   "cell_type": "code",
   "execution_count": 12,
   "metadata": {
    "slideshow": {
     "slide_type": "fragment"
    }
   },
   "outputs": [],
   "source": [
    "// In this case, nullptrfront\n",
    "Node *List::end() const {\n",
    "    return nullptr;\n",
    "}"
   ]
  },
  {
   "cell_type": "markdown",
   "metadata": {
    "slideshow": {
     "slide_type": "slide"
    }
   },
   "source": [
    "## `front()`\n",
    "\n",
    "- To get the first value in the linked list, we must access the node to which the `list_head` is pointing\n",
    "\n",
    "- Because we have a pointer, we must use the `->` operator to call the member function:\n",
    "```cpp\n",
    "int List::front() const {\n",
    "    return begin()->value();\n",
    "}\n",
    "```"
   ]
  },
  {
   "cell_type": "markdown",
   "metadata": {
    "slideshow": {
     "slide_type": "slide"
    }
   },
   "source": [
    "- The member function `int front() const` requires some additional consideration, however:\n",
    "    - What if the list is empty?\n",
    "\n",
    "- If we tried to access a member function of a pointer set to `nullptr`, we would access restricted memory\n",
    "    - The operating system would terminate the running program\n",
    "    - Instead, we can use an exception handling mechanism where we thrown an exception"
   ]
  },
  {
   "cell_type": "code",
   "execution_count": 16,
   "metadata": {
    "slideshow": {
     "slide_type": "fragment"
    }
   },
   "outputs": [],
   "source": [
    "int List::front() const {\n",
    "    if ( empty() ) {\n",
    "        throw underflow_error(\"List is empty\");\n",
    "    }\n",
    "    return begin()->value();\n",
    "}"
   ]
  },
  {
   "cell_type": "markdown",
   "metadata": {
    "slideshow": {
     "slide_type": "slide"
    }
   },
   "source": [
    "## Software Engening Tip\n",
    "\n",
    "- Why is `empty()` better than\n",
    "\n",
    "```cpp\n",
    "int List::front() const {\n",
    "    if ( list_head == nullptr ) {\n",
    "        throw underflow();\n",
    "  }\n",
    "\n",
    "    return list_head->node_value;\n",
    "}\n",
    "```\n",
    "\n",
    "- Two benefits:\n",
    "    - More readable\n",
    "    - If the implementation changes we do nothing"
   ]
  },
  {
   "cell_type": "markdown",
   "metadata": {
    "slideshow": {
     "slide_type": "slide"
    }
   },
   "source": [
    "## Inserting at the Head\n",
    "\n",
    "- Step required for insering a new element at the beginning of the list\n",
    "    - Allocate a new node\n",
    "    - Insert new element\n",
    "    - Have new node point to old head\n",
    "    - Update head to point to new node\n",
    "- Corresponding mutator function is `void push_front(int)`"
   ]
  },
  {
   "cell_type": "markdown",
   "metadata": {
    "slideshow": {
     "slide_type": "slide"
    }
   },
   "source": [
    "## `push_front`\n",
    "\n",
    "Let us add a value in front of the list\n",
    "\n",
    "- If it is empty, we start with:\n",
    "![](../img/llist01.png)"
   ]
  },
  {
   "cell_type": "markdown",
   "metadata": {
    "slideshow": {
     "slide_type": "fragment"
    }
   },
   "source": [
    "- and, if we try to add 81, we should end up with:\n",
    "![](../img/llist02.png)"
   ]
  },
  {
   "cell_type": "markdown",
   "metadata": {
    "slideshow": {
     "slide_type": "slide"
    }
   },
   "source": [
    "- To visualize what we must do:\n",
    "    - We must create a new node which:\n",
    "        - stores the value 81, and\n",
    "        - is pointing to 0\n",
    "    - We must then assign its address to list_head\n",
    "\n",
    "- We can do this as follows:\n",
    "```cpp\n",
    "list_head = new Node( 81, nullptr );\n",
    "```\n",
    "\n",
    "- We could also use the default value..."
   ]
  },
  {
   "cell_type": "markdown",
   "metadata": {
    "slideshow": {
     "slide_type": "slide"
    }
   },
   "source": [
    "- Suppose however, we already have a non-empty list\n",
    "![](../img/llist02.png)"
   ]
  },
  {
   "cell_type": "markdown",
   "metadata": {
    "slideshow": {
     "slide_type": "fragment"
    }
   },
   "source": [
    "- Adding 70, we want:\n",
    "![](../img/llist03.png)"
   ]
  },
  {
   "cell_type": "markdown",
   "metadata": {
    "slideshow": {
     "slide_type": "slide"
    }
   },
   "source": [
    "- To achieve this\n",
    "    - We must we must create a new node which:\n",
    "        - stores the value 70, and\n",
    "        - is pointing to the current list head\n",
    "    - We must then assign its address to `list_head`\n",
    "\n",
    "- We can do this as follows:\n",
    "```cpp\n",
    "list_head = new Node( 70, list_head );\n",
    "```"
   ]
  },
  {
   "cell_type": "code",
   "execution_count": null,
   "metadata": {
    "slideshow": {
     "slide_type": "fragment"
    }
   },
   "outputs": [],
   "source": [
    "void List::push_front( int n ) {\n",
    "    if ( empty() ) {\n",
    "        list_head = new Node( n, nullptr );\n",
    "    } else {\n",
    "        list_head = new Node( n, begin() );\n",
    "    }\n",
    "}"
   ]
  },
  {
   "cell_type": "markdown",
   "metadata": {
    "slideshow": {
     "slide_type": "slide"
    }
   },
   "source": [
    "- We could, however, note that when the list is empty, `list_head == 0`, thus we could shorten this to:\n",
    "\n",
    "```cpp\n",
    "void List::push_front( int n ) {\n",
    "    list_head = new Node( n, list_head );\n",
    "}\n",
    "```"
   ]
  },
  {
   "cell_type": "markdown",
   "metadata": {
    "slideshow": {
     "slide_type": "fragment"
    }
   },
   "source": [
    "- Are we allowed to do this?"
   ]
  },
  {
   "cell_type": "code",
   "execution_count": null,
   "metadata": {
    "slideshow": {
     "slide_type": "fragment"
    }
   },
   "outputs": [],
   "source": [
    "void List::push_front( int n ) {\n",
    "    list_head = new Node( n, begin() );\n",
    "}"
   ]
  },
  {
   "cell_type": "markdown",
   "metadata": {
    "slideshow": {
     "slide_type": "fragment"
    }
   },
   "source": [
    "- **Yes**:  the right-hand side of an assignment is evaluated first\n",
    "    - The original value of `list_head` is accessed first before the function call is made"
   ]
  },
  {
   "cell_type": "markdown",
   "metadata": {
    "slideshow": {
     "slide_type": "slide"
    }
   },
   "source": [
    "## Question\n",
    "\n",
    "- Does this work?\n",
    "\n",
    "```cpp\n",
    "void List::push_front( int n ) {\n",
    "    Node new_node( n, begin() );\n",
    "    list_head = &new_node;\n",
    "}\n",
    "```"
   ]
  },
  {
   "cell_type": "markdown",
   "metadata": {
    "slideshow": {
     "slide_type": "fragment"
    }
   },
   "source": [
    "- Why or why not?  What happens to `new_node`?"
   ]
  },
  {
   "cell_type": "markdown",
   "metadata": {
    "slideshow": {
     "slide_type": "fragment"
    }
   },
   "source": [
    "- How does this differ from\n",
    "```cpp\n",
    "void List::push_front( int n ) {\n",
    "    Node *new_node = new Node( n, begin() );\n",
    "    list_head = new_node;\n",
    "}\n",
    "```"
   ]
  },
  {
   "cell_type": "markdown",
   "metadata": {
    "slideshow": {
     "slide_type": "slide"
    }
   },
   "source": [
    "## Removing at the Head\n",
    "\n",
    "- Erasing the element from the front of the list requires:\n",
    "\n",
    "    1. Update head to point to next node in the list\n",
    "    2. Free memory of the former first node"
   ]
  },
  {
   "cell_type": "markdown",
   "metadata": {
    "slideshow": {
     "slide_type": "slide"
    }
   },
   "source": [
    "## `pop_front`\n",
    "\n",
    "- Erasing from the front of a linked list is even easier:\n",
    "    - We assign the list head to the next pointer of the first node\n",
    "\n",
    "- Graphically, given:\n",
    "![](../img/llist04.png)"
   ]
  },
  {
   "cell_type": "markdown",
   "metadata": {
    "slideshow": {
     "slide_type": "fragment"
    }
   },
   "source": [
    "- we want\n",
    "![](../img/llist05.png)"
   ]
  },
  {
   "cell_type": "markdown",
   "metadata": {
    "slideshow": {
     "slide_type": "slide"
    }
   },
   "source": [
    "- Easy enough:\n",
    "```cpp\n",
    "int List::pop_front() {\n",
    "    int e = front();\n",
    "    list_head = begin()->next();\n",
    "    return e;\n",
    "}\n",
    "```"
   ]
  },
  {
   "cell_type": "markdown",
   "metadata": {
    "slideshow": {
     "slide_type": "fragment"
    }
   },
   "source": [
    "- Unfortunately, we have some problems:\n",
    "    - The list may be empty\n",
    "    - We still have the memory allocated for the node containing 70"
   ]
  },
  {
   "cell_type": "markdown",
   "metadata": {
    "slideshow": {
     "slide_type": "slide"
    }
   },
   "source": [
    "- Does this work?\t\n",
    "\n",
    "```cpp\n",
    "int List::pop_front() {\n",
    "    if ( empty() ) {\n",
    "        throw underflow_error(\"List is empty\");\n",
    "    }\n",
    "\n",
    "    int e = front();\n",
    "    delete begin();               /// ????\n",
    "    list_head = begin()->next();  /// ????\n",
    "    return e;\n",
    "}\n",
    "```"
   ]
  },
  {
   "cell_type": "markdown",
   "metadata": {
    "slideshow": {
     "slide_type": "slide"
    }
   },
   "source": [
    "int List::pop_front() {\n",
    "<div style=\"margin-left: 1em\">\n",
    "    \n",
    "if ( empty() ) {\n",
    "     throw underflow_error();\n",
    "}\n",
    "\n",
    "<div><span style=\"color:red\"> int e = front(); </span><img style=\"vertical-align: center;  max-width: auto;  display: inline-block;\" src=\"../img/llist06.png\"/>\n",
    "\n",
    "delete begin();\n",
    "\n",
    "list_head = begin()->next();\n",
    "\n",
    "return e;\n",
    "</div>\n",
    "}"
   ]
  },
  {
   "cell_type": "markdown",
   "metadata": {
    "slideshow": {
     "slide_type": "slide"
    }
   },
   "source": [
    "int List::pop_front() {\n",
    "<div style=\"margin-left: 1em\">\n",
    "    \n",
    "if ( empty() ) {\n",
    "     throw underflow_error();\n",
    "}\n",
    "\n",
    "int e = front();    \n",
    "    \n",
    "<div><span style=\"color:red\"> delete begin(); </span><img style=\"vertical-align: center;  max-width: auto;  display: inline-block;\" src=\"../img/llist07.png\"/>\n",
    "\n",
    "list_head = begin()->next();\n",
    "\n",
    "return e;\n",
    "</div>\n",
    "}"
   ]
  },
  {
   "cell_type": "markdown",
   "metadata": {
    "slideshow": {
     "slide_type": "slide"
    }
   },
   "source": [
    "int List::pop_front() {\n",
    "<div style=\"margin-left: 1em\">\n",
    "    \n",
    "if ( empty() ) {\n",
    "     throw underflow_error();\n",
    "}\n",
    "\n",
    "int e = front();    \n",
    "\n",
    "delete begin();\n",
    "    \n",
    "list_head = begin()->next();\n",
    "    \n",
    "<div><span style=\"color:red\"> return e; </span><img style=\"vertical-align: center;  max-width: auto;  display: inline-block;\" src=\"../img/llist08.png\"/>\n",
    "\n",
    "</div>\n",
    "}"
   ]
  },
  {
   "cell_type": "markdown",
   "metadata": {
    "slideshow": {
     "slide_type": "slide"
    }
   },
   "source": [
    "## Problem\n",
    "\n",
    "- The problem is, we are accessing a node which we have just deleted\n",
    "\n",
    "- Unfortunately, this will work more than 99% of the time:\n",
    "    - The running program (process) may still own the memory\n",
    "- Once in a while it will fail ...\n",
    "    - ... and it will be almost impossible to debug\n",
    "        \n",
    "![](https://imgs.xkcd.com/comics/forgetting.png)"
   ]
  },
  {
   "cell_type": "markdown",
   "metadata": {
    "slideshow": {
     "slide_type": "fragment"
    }
   },
   "source": [
    "## Solution\n",
    "\n",
    "- The correct implementation assigns a temporary pointer to point to the node being deleted:"
   ]
  },
  {
   "cell_type": "code",
   "execution_count": 21,
   "metadata": {
    "slideshow": {
     "slide_type": "fragment"
    }
   },
   "outputs": [],
   "source": [
    "int List::pop_front() {\n",
    "     if ( empty() ) {\n",
    "          throw underflow_error(\"List is empty\");\n",
    "     }\n",
    "\n",
    "    int e = front();\n",
    "    Node *ptr = list_head;\n",
    "    list_head = list_head->next();\n",
    "    delete ptr;\n",
    "    return e;\n",
    "}"
   ]
  },
  {
   "cell_type": "markdown",
   "metadata": {
    "slideshow": {
     "slide_type": "slide"
    }
   },
   "source": [
    "int List::pop_front() {\n",
    "<div style=\"margin-left: 1em\">\n",
    "    \n",
    "if ( empty() ) {\n",
    "     throw underflow_error();\n",
    "}\n",
    "\n",
    "\n",
    "<div><span style=\"color:red\"> int e = front(); </span><img style=\"vertical-align: center;  max-width: auto;  display: inline-block;\" src=\"../img/llist09.png\"/>\n",
    "\n",
    "Node *ptr = begin();   \n",
    "    \n",
    "list_head = begin()->next();\n",
    "    \n",
    "delete ptr;\n",
    "\n",
    "return e;\n",
    "    \n",
    "</div>\n",
    "}"
   ]
  },
  {
   "cell_type": "markdown",
   "metadata": {
    "slideshow": {
     "slide_type": "slide"
    }
   },
   "source": [
    "int List::pop_front() {\n",
    "<div style=\"margin-left: 1em\">\n",
    "    \n",
    "if ( empty() ) {\n",
    "     throw underflow_error();\n",
    "}\n",
    "\n",
    "int e = front();\n",
    "    \n",
    "<div><span style=\"color:red\"> Node *ptr = begin(); </span><img style=\"vertical-align: center;  max-width: auto;  display: inline-block;\" src=\"../img/llist10.png\"/>\n",
    "    \n",
    "list_head = begin()->next();\n",
    "    \n",
    "delete ptr;\n",
    "\n",
    "return e;\n",
    "    \n",
    "</div>\n",
    "}"
   ]
  },
  {
   "cell_type": "markdown",
   "metadata": {
    "slideshow": {
     "slide_type": "slide"
    }
   },
   "source": [
    "int List::pop_front() {\n",
    "<div style=\"margin-left: 1em\">\n",
    "    \n",
    "if ( empty() ) {\n",
    "     throw underflow_error();\n",
    "}\n",
    "\n",
    "int e = front();\n",
    "    \n",
    "Node *ptr = begin();\n",
    "    \n",
    "<div><span style=\"color:red\"> list_head = begin()->next(); </span><img style=\"vertical-align: center;  max-width: auto;  display: inline-block;\" src=\"../img/llist11.png\"/>    \n",
    "    \n",
    "delete ptr;\n",
    "\n",
    "return e;\n",
    "    \n",
    "</div>\n",
    "}"
   ]
  },
  {
   "cell_type": "markdown",
   "metadata": {
    "slideshow": {
     "slide_type": "slide"
    }
   },
   "source": [
    "int List::pop_front() {\n",
    "<div style=\"margin-left: 1em\">\n",
    "    \n",
    "if ( empty() ) {\n",
    "     throw underflow_error();\n",
    "}\n",
    "\n",
    "int e = front();\n",
    "    \n",
    "Node *ptr = begin();\n",
    "    \n",
    "list_head = begin()->next();\n",
    "    \n",
    "<div><span style=\"color:red\"> delete ptr; </span><img style=\"vertical-align: center;  max-width: auto;  display: inline-block;\" src=\"../img/llist12.png\"/>        \n",
    "\n",
    "return e;\n",
    "    \n",
    "</div>\n",
    "}"
   ]
  },
  {
   "cell_type": "markdown",
   "metadata": {
    "slideshow": {
     "slide_type": "slide"
    }
   },
   "source": [
    "## Stepping through a Linked List\n",
    "\n",
    "- The next step is to look at member functions which potentially require us to step through the entire list:\n",
    "\n",
    "```cpp\n",
    "int size() const;\n",
    "int count( int ) const;\n",
    "int erase( int );\n",
    "```\n",
    "\n",
    "- The second counts the number of instances of an integer, and the last removes the nodes containing that integer"
   ]
  },
  {
   "cell_type": "markdown",
   "metadata": {
    "slideshow": {
     "slide_type": "slide"
    }
   },
   "source": [
    "- The process of stepping through a linked list can be thought of as being analogous to a for-loop:\n",
    "- We initialize a temporary pointer with the list head\n",
    "- We continue iterating until the pointer equals nullptr\n",
    "- With each step, we set the pointer to point to the next object"
   ]
  },
  {
   "cell_type": "markdown",
   "metadata": {
    "slideshow": {
     "slide_type": "fragment"
    }
   },
   "source": [
    "Thus, we have:\n",
    "\n",
    "```cpp\n",
    "for ( Node *ptr = begin(); ptr != end(); ptr = ptr->next() ) {\n",
    "   // do something\n",
    "   // use ptr->fn() to call member functions\n",
    "   // use ptr->var to assign/access member variables\n",
    "}\n",
    "```  "
   ]
  },
  {
   "cell_type": "markdown",
   "metadata": {
    "slideshow": {
     "slide_type": "slide"
    }
   },
   "source": [
    "## Initialization\n",
    "\n",
    "- With the initialization and first iteration of the loop, we have:\n",
    "\n",
    "![](../img/llist13.png)\n",
    "\n",
    "- `ptr != nullptr` and thus we evaluate the body of the loop and then set ptr to the next pointer of the node it is pointing to"
   ]
  },
  {
   "cell_type": "markdown",
   "metadata": {
    "slideshow": {
     "slide_type": "slide"
    }
   },
   "source": [
    "## Stepping\n",
    "\n",
    "- `ptr != nullptr` and thus we evaluate the loop and increment the pointer\n",
    "\n",
    "![](../img/llist14.png)\n",
    "\n",
    "- In the loop, we can access the value being pointed to by using `ptr->value()`"
   ]
  },
  {
   "cell_type": "markdown",
   "metadata": {
    "slideshow": {
     "slide_type": "slide"
    }
   },
   "source": [
    "## Stepping\n",
    "\n",
    "- `ptr != nullptr` and thus we evaluate the loop and increment the\n",
    "\n",
    "![](../img/llist15.png)\n",
    "\n",
    "- Also, in the loop, we can access the next node in the list by using `ptr->next()`"
   ]
  },
  {
   "cell_type": "markdown",
   "metadata": {
    "slideshow": {
     "slide_type": "slide"
    }
   },
   "source": [
    "## Stepping\n",
    "\n",
    "- `ptr != nullptr` and thus we evaluate the loop and increment the\n",
    "\n",
    "![](../img/llist16.png)\n",
    "\n",
    "- \tThis last increment causes `ptr == nullptr` "
   ]
  },
  {
   "cell_type": "markdown",
   "metadata": {
    "slideshow": {
     "slide_type": "slide"
    }
   },
   "source": [
    "## Reached the End\n",
    "\n",
    "- Here, we check and find `ptr != nullptr` is false, and thus we exit the loop\n",
    "\n",
    "![](../img/llist17.png)\n",
    "\n",
    "- Because the variable `ptr` was declared inside the loop, we can no longer access it"
   ]
  },
  {
   "cell_type": "markdown",
   "metadata": {
    "slideshow": {
     "slide_type": "slide"
    }
   },
   "source": [
    "## `count`\n",
    "\n",
    "- To implement `int count(int) const`, we simply check if the argument matches the value with each step\n",
    "    - Each time we find a match, we increment the count\n",
    "    - When the loop is finished, we return the count\n",
    "    - The size function is simplification of count\n",
    "\n",
    "    "
   ]
  },
  {
   "cell_type": "code",
   "execution_count": 23,
   "metadata": {
    "slideshow": {
     "slide_type": "fragment"
    }
   },
   "outputs": [],
   "source": [
    "int List::count( int n ) const {\n",
    "    int node_count = 0;\n",
    "\n",
    "    for ( Node *ptr = begin(); ptr != end(); ptr = ptr->next() ) {\n",
    "        if ( ptr->value() == n ) {\n",
    "            ++node_count;\n",
    "        }\n",
    "    }\n",
    "\n",
    "    return node_count;\n",
    "}"
   ]
  },
  {
   "cell_type": "markdown",
   "metadata": {
    "slideshow": {
     "slide_type": "slide"
    }
   },
   "source": [
    "## `erase`\n",
    "\n",
    "- To remove an arbitrary value, i.e., to implement `int erase( int )`, we must update the previous node\n",
    "\t\n",
    "- For example, given\n",
    "\n",
    "![](../img/linked-list-example3.png)\n",
    "\n",
    "- if we delete **70**, we want to end up with\n",
    "\n",
    "![](../img/linked-list-example4.png)"
   ]
  },
  {
   "cell_type": "markdown",
   "metadata": {
    "slideshow": {
     "slide_type": "slide"
    }
   },
   "source": [
    "## ## Software Engening Tip\n",
    "\n",
    "- The `erase` function must modify the member variables of the node prior to the node being removed\n",
    "\n",
    "- Thus, it must have access to the member variable `next_node`\n",
    "\n",
    "- We could supply the member function\n",
    "```cpp\n",
    "void set_next( Node * );\n",
    "```\n",
    "however, this would be globally accessible\n",
    "\n",
    "- Possible solutions:\n",
    "    - Friends\n",
    "    - Nested classes"
   ]
  },
  {
   "cell_type": "markdown",
   "metadata": {
    "slideshow": {
     "slide_type": "slide"
    }
   },
   "source": [
    "## Friends\n",
    "\n",
    "- In C++, you could explicitly break encapsulation by declaring the class `List` to be a **friend** of the class `Node`:\n",
    "\n",
    "```cpp\n",
    "class A {\n",
    "    private:\n",
    "        int class_size;\n",
    "    // ... declaration ...\n",
    "    friend class B;\n",
    "};\n",
    "```\n",
    "\n",
    "- Now, any member function of class `B` has access to all private member variables of class `A`"
   ]
  },
  {
   "cell_type": "markdown",
   "metadata": {
    "slideshow": {
     "slide_type": "slide"
    }
   },
   "source": [
    "- For example, if the `Node` class was one class, and the `List` class was a **friend** of the `Node` class, `List::erase` could modify nodes:\n",
    "\n",
    "```cpp\n",
    "int List::erase( int n ) {\n",
    "    int node_count = 0;\n",
    "    // ... \n",
    "    for ( Node *ptr = begin(); ptr != end(); ptr = ptr->next() ) {\n",
    "        // ...\n",
    "        if ( some condition ) {\n",
    "            ptr->next_node = ptr->next()->next(); // access private `next_node` of the Node class \n",
    "            // ...\n",
    "            ++node_count;\n",
    "        }\n",
    "    }\n",
    "    return node_count;\n",
    "}\n",
    "```"
   ]
  },
  {
   "cell_type": "markdown",
   "metadata": {
    "slideshow": {
     "slide_type": "slide"
    }
   },
   "source": [
    "## Nested Classes\n",
    "\n",
    "- In C++, you can nest one class inside another, which is what we do: \n",
    "\n",
    "```cpp\n",
    "class Outer {\n",
    "    private:\n",
    "        class Nested {\n",
    "            private:\n",
    "                int node_value;\n",
    "            public:\n",
    "                int get() const;\n",
    "                void set( int );\n",
    "        };\n",
    " \n",
    "        Nested stored;\n",
    " \n",
    "    public:\n",
    "        int get() const;\n",
    "        void set( int );\n",
    "};\n",
    "```"
   ]
  },
  {
   "cell_type": "markdown",
   "metadata": {
    "slideshow": {
     "slide_type": "slide"
    }
   },
   "source": [
    "The function definitions are as one would expect:\n",
    "\n",
    "```cpp\n",
    "int Outer::Nested::get() const {\n",
    "    return node_value;\n",
    "}\n",
    " \n",
    "void Outer::Nested::set( int n ) {\n",
    "    node_value = n;\n",
    "}\n",
    "```\n",
    "\n",
    "```cpp\n",
    "int Outer::get() const {\n",
    "    return stored.get();\n",
    "}\n",
    " \n",
    "void Outer::set( int n ) {\n",
    "    // Not allowed, as node_value is private  \n",
    "    // stored.node_value = n; \n",
    "    stored.set( n );\n",
    "}\n",
    "```"
   ]
  },
  {
   "cell_type": "markdown",
   "metadata": {
    "slideshow": {
     "slide_type": "slide"
    }
   },
   "source": [
    "## Destructor\n",
    "\n",
    "- We dynamically allocated memory each time we added a new **int** into this list\n",
    "\n",
    "- Suppose we delete a list before we remove everything from it\n",
    "    - This would leave the memory allocated with no reference to it\n",
    "    \n",
    "![](../img/linked-list-delete.png)"
   ]
  },
  {
   "cell_type": "markdown",
   "metadata": {
    "slideshow": {
     "slide_type": "slide"
    }
   },
   "source": [
    "- The destructor has to delete any memory which had been allocated but has not yet been deallocated\n",
    "\n",
    "- This is straight-forward enough:\n",
    "\n",
    "```cpp\n",
    "while ( !empty() ) {\n",
    "    pop_front();\n",
    "}\n",
    "```"
   ]
  },
  {
   "cell_type": "markdown",
   "metadata": {
    "slideshow": {
     "slide_type": "fragment"
    }
   },
   "source": [
    "- Is this efficient?\n",
    "    - It runs in $O(n)$ time, where $n$ is the number of objects in the linked list\n",
    "    - Given that *delete* is approximately 100× slower than most other instructions (it does call the OS), the extra overhead is negligible..."
   ]
  }
 ],
 "metadata": {
  "celltoolbar": "Slideshow",
  "kernelspec": {
   "display_name": "C++17",
   "language": "C++17",
   "name": "xcpp17"
  },
  "language_info": {
   "codemirror_mode": "text/x-c++src",
   "file_extension": ".cpp",
   "mimetype": "text/x-c++src",
   "name": "c++",
   "version": "17"
  },
  "rise": {
   "enable_chalkboard": true
  }
 },
 "nbformat": 4,
 "nbformat_minor": 4
}
