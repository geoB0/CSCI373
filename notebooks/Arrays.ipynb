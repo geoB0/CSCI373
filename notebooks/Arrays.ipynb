{
 "cells": [
  {
   "cell_type": "code",
   "execution_count": 6,
   "metadata": {
    "slideshow": {
     "slide_type": "skip"
    }
   },
   "outputs": [],
   "source": [
    "#include <iostream>\n",
    "#include <iomanip>\n",
    "\n",
    "using namespace std;\n",
    "std::cout << std::boolalpha; "
   ]
  },
  {
   "cell_type": "markdown",
   "metadata": {
    "slideshow": {
     "slide_type": "slide"
    }
   },
   "source": [
    "# Arrays"
   ]
  },
  {
   "cell_type": "markdown",
   "metadata": {
    "slideshow": {
     "slide_type": "slide"
    }
   },
   "source": [
    "## Memory Allocation\n",
    "\n",
    "- Memory allocation can be classified as either\n",
    "    - Contiguous\n",
    "    - Linked\n",
    "    - Indexed\n",
    "\n",
    "- Prototypical examples:\n",
    "    - Contiguous allocation: arrays\n",
    "    - Linked allocation: linked lists"
   ]
  },
  {
   "cell_type": "markdown",
   "metadata": {
    "slideshow": {
     "slide_type": "slide"
    }
   },
   "source": [
    "## Contiguous Allocation\n",
    "\n",
    "- An array stores *n* objects in a single contiguous space of memory\n",
    "- Unfortunately, if more memory is required, a request for new memory usually requires copying all information into the new memory\n",
    "    - In general, you cannot request for the operating system to allocate to you the next *n* memory locations"
   ]
  },
  {
   "cell_type": "markdown",
   "metadata": {
    "slideshow": {
     "slide_type": "slide"
    }
   },
   "source": [
    "## Linked Allocation\n",
    "\n",
    "- Linked storage such as a linked list associates two pieces of data with each item being stored:\n",
    "    - The object itself, and\n",
    "    - A reference to the next item\n",
    "        - In C++ that reference is the address of the next node"
   ]
  },
  {
   "cell_type": "markdown",
   "metadata": {
    "slideshow": {
     "slide_type": "slide"
    }
   },
   "source": [
    "## Indexed Allocation\n",
    "\n",
    "- With indexed allocation, an array of pointers (possibly NULL) link to a sequence of allocated memory locations\n",
    "\n",
    "- Used in the C++ standard template library\n",
    "\n",
    "- Matrices can be implemented using indexed allocation:\n",
    "    - Most implementations of matrices (or higher-dimensional arrays) use indices pointing into a single contiguous block of memory"
   ]
  },
  {
   "cell_type": "markdown",
   "metadata": {
    "slideshow": {
     "slide_type": "slide"
    }
   },
   "source": [
    "## Other Allocation Formats\n",
    "\n",
    "- We will look at some variations or hybrids of these memory allocations including:\n",
    "    - Trees\n",
    "    - Graphs\n",
    "    - Deques (linked arrays)\n",
    "    - inodes"
   ]
  },
  {
   "cell_type": "markdown",
   "metadata": {
    "slideshow": {
     "slide_type": "slide"
    }
   },
   "source": [
    "## Linear List\n",
    "\n",
    "- *Linear list* is a data object whose instances are of the form ($e_1,e_2,\\ldots,e_n$)\n",
    "    - $e_i$ is an element of the list\n",
    "    - $e_1$ is the first element, and $e_n$ is the last element\n",
    "    - $n$ is the length of the list\n",
    "    - when $n = 0$, it is called an empty list.\n",
    "    - $e_1$ comes before $e_2$, $e_2$ comes before $e_3$, and so on.\n",
    "- Examples\n",
    "    - student names order by their alphabets\n",
    "    - a list of exam scores sorted by descending order"
   ]
  },
  {
   "cell_type": "markdown",
   "metadata": {
    "slideshow": {
     "slide_type": "slide"
    }
   },
   "source": [
    "## Implementations of Linear List\n",
    "\n",
    "- Array-based (Formula-based)\n",
    "    - Uses a mathematical formula to determine where (i.e., the memory address) to store each element of a list\n",
    "- Linked list (Pointer-based)\n",
    "    - The elements of a list may be stored in any arbitrary set of locations\n",
    "    - Each element has an explicit pointer (or link) to the next element\n",
    "- Indirect addressing\n",
    "    - The elements of a list may be stored in any arbitrary set of locations\n",
    "    - Maintain a table such that the ith table entry tells us where the ith element is stored\n",
    "- Simulated pointer\n",
    "    - Similar to linked representation but integers replace the C++ pointers"
   ]
  },
  {
   "cell_type": "markdown",
   "metadata": {
    "slideshow": {
     "slide_type": "slide"
    }
   },
   "source": [
    "## ArrayList\n",
    "\n",
    "- The **Vector** or **Array List ADT** extends the notion of array by storing a sequence of objects\n",
    "- It uses an array to store the elements of linear list.\n",
    "- An element can be accessed, inserted or removed by specifying its index (number of elements preceding it)\n",
    "- An exception is thrown if an incorrect index is given (e.g., a negative index)\n",
    "- Individual element is located in the array using a mathematical formula.\n",
    "    - typical formula: **location(i) = i - 1**"
   ]
  },
  {
   "cell_type": "markdown",
   "metadata": {
    "slideshow": {
     "slide_type": "slide"
    }
   },
   "source": [
    "## ArrayList Itreface\n",
    "\n",
    "- Main methods:\n",
    "    - `at(integer i)`: returns the element at index `i` without removing it\n",
    "    - `set(integer i, object o)`: replace the element at index `i` with `o`\n",
    "    - `insert(integer i, object o)`: insert a new element `o` to have index `i`\n",
    "    - `erase(integer i)`: removes element at index `i`\n",
    "\n",
    "- Additional methods:\n",
    "    - `size()`\n",
    "    - `max_size()`\n",
    "    - `empty()`"
   ]
  },
  {
   "cell_type": "markdown",
   "metadata": {
    "slideshow": {
     "slide_type": "slide"
    }
   },
   "source": [
    "## Applications of Array Lists\n",
    "\n",
    "- Direct applications\n",
    "    - Sorted collection of objects (elementary database)\n",
    "    - Indirect applications\n",
    "- Auxiliary data structure for algorithms\n",
    "    - Component of other data structures"
   ]
  },
  {
   "cell_type": "markdown",
   "metadata": {
    "slideshow": {
     "slide_type": "slide"
    }
   },
   "source": [
    "## Array-based Implementation\n",
    "\n",
    "- Use a static array `A` of size `N`\n",
    "- A variable `n` keeps track of the size of the array list (number of elements stored)\n",
    "- Operation `at(i)` is implemented in $O(1)$ time by returning `A[i]`\n",
    "- Operation `set(i,o)` is implemented in $O(1)$ time by performing `A[i] = o`\n",
    "\n",
    "![](img/arraylist.png)"
   ]
  },
  {
   "cell_type": "code",
   "execution_count": 6,
   "metadata": {
    "slideshow": {
     "slide_type": "slide"
    }
   },
   "outputs": [],
   "source": [
    "template <typename T>\n",
    "class ArrayList {\n",
    "protected:\n",
    "    int n;       // current size\n",
    "    int N;       // maximum allowed size\n",
    "    T* elements; // storage for the objects\n",
    "public:\n",
    "    ArrayList(int size = 10) : n{0}, N{size} {\n",
    "        elements = new T[N];\n",
    "    }\n",
    "    ~ArrayList() {\n",
    "        delete[] elements;\n",
    "    }\n",
    "    // Capacity\n",
    "    bool empty() const;\n",
    "    int size() const;\n",
    "    int max_size() const;\n",
    "    // Element access\n",
    "    T at(int i) const;\n",
    "    void set(int i, T o);\n",
    "    // Modifiers\n",
    "    void insert(int i, T o);\n",
    "    void erase(int i);\n",
    "};"
   ]
  },
  {
   "cell_type": "markdown",
   "metadata": {
    "slideshow": {
     "slide_type": "slide"
    }
   },
   "source": [
    "## Insertion\n",
    "\n",
    "- In operation `insert(i, o)`, we need to make room for the new element in the $i$th posistion\n",
    "    - by shifting forward the $n-i$ elements $A[i], \\ldots, A[n - 1]$\n",
    "- In the worst case *(i = 0)*, this takes $O(n)$ time\n",
    "\n",
    "![](img/arraylist-insert.png)"
   ]
  },
  {
   "cell_type": "code",
   "execution_count": 19,
   "metadata": {
    "slideshow": {
     "slide_type": "slide"
    }
   },
   "outputs": [
    {
     "name": "stdout",
     "output_type": "stream",
     "text": [
      "Current size: 0\n",
      "Max size: 10\n",
      "Empty: true\n"
     ]
    }
   ],
   "source": [
    "#include \"../dev/ArrayList.h\"\n",
    "\n",
    "ArrayList<int> al;\n",
    "cout << \"Current size: \" << al.size() << endl;\n",
    "cout << \"Max size: \" << al.max_size() << endl;\n",
    "cout << \"Empty: \" << al.empty() << endl;"
   ]
  },
  {
   "cell_type": "code",
   "execution_count": 20,
   "metadata": {
    "slideshow": {
     "slide_type": "fragment"
    }
   },
   "outputs": [
    {
     "name": "stdout",
     "output_type": "stream",
     "text": [
      "ArrayList: 1\n"
     ]
    }
   ],
   "source": [
    "al.insert(0, 1);\n",
    "cout << \"ArrayList: \"; al.print(); cout << endl;"
   ]
  },
  {
   "cell_type": "code",
   "execution_count": 21,
   "metadata": {
    "slideshow": {
     "slide_type": "fragment"
    }
   },
   "outputs": [
    {
     "name": "stdout",
     "output_type": "stream",
     "text": [
      "ArrayList: 2-1\n"
     ]
    }
   ],
   "source": [
    "al.insert(0, 2);\n",
    "cout << \"ArrayList: \"; al.print(); cout << endl;"
   ]
  },
  {
   "cell_type": "code",
   "execution_count": 22,
   "metadata": {
    "slideshow": {
     "slide_type": "fragment"
    }
   },
   "outputs": [
    {
     "name": "stdout",
     "output_type": "stream",
     "text": [
      "ArrayList: 2-3-1\n",
      "Current size: 3\n"
     ]
    }
   ],
   "source": [
    "al.insert(1, 3);\n",
    "cout << \"ArrayList: \"; al.print(); cout << endl;\n",
    "cout << \"Current size: \" << al.size() << endl;"
   ]
  },
  {
   "cell_type": "markdown",
   "metadata": {
    "slideshow": {
     "slide_type": "slide"
    }
   },
   "source": [
    "## Element Removal\n",
    "\n",
    "- In operation `erase(i)`, we need to fill the hole left by the removed element\n",
    "    - by shifting backward the $n - i - 1$ elements $A[i + 1], \\ldots, A[n - 1]$.\n",
    "- In the worst case $(i = 0)$, this takes $O(n)$ time\n",
    "\n",
    "![](img/arraylist-erase.png)"
   ]
  },
  {
   "cell_type": "code",
   "execution_count": 19,
   "metadata": {
    "slideshow": {
     "slide_type": "slide"
    }
   },
   "outputs": [
    {
     "name": "stdout",
     "output_type": "stream",
     "text": [
      "Current size: 0\n",
      "Max size: 10\n",
      "Empty: true\n"
     ]
    }
   ],
   "source": [
    "ArrayList<int> al;\n",
    "cout << \"Current size: \" << al.size() << endl;"
   ]
  },
  {
   "cell_type": "markdown",
   "metadata": {
    "slideshow": {
     "slide_type": "slide"
    }
   },
   "source": [
    "## Performance\n",
    "\n",
    "- In the array based implementation of an array list:\n",
    "    - The space used by the data structure is $O(n)$ (linear)\n",
    "    - `size`, `empty`, `at` and `set` run in $O(1)$ (constant) time\n",
    "    - `insert` and `erase` run in $O(n)$ (linear) time in worst case\n",
    "- If we use the array in a circular fashion, operations `insert(0, x)` and `erase(0, x)` run in $O(1)$ time\n",
    "- In an `insert` operation, when the array is full, instead of throwing an exception, we can replace the array with a larger one"
   ]
  },
  {
   "cell_type": "markdown",
   "metadata": {
    "slideshow": {
     "slide_type": "slide"
    }
   },
   "source": [
    "## Growable ArrayList\n",
    "\n",
    "- In an `insert(o)` operation (without an index), we always insert at the end\n",
    "    - `push_back(o)` in STL\n",
    "- When the array is full, we replace the array with a larger one\n",
    "- How large should the new array be?\n",
    "    - **Incremental strategy**: increase the size by a constant `c`\n",
    "    - **Doubling strategy**: double the size"
   ]
  }
 ],
 "metadata": {
  "celltoolbar": "Slideshow",
  "kernelspec": {
   "display_name": "C++14",
   "language": "C++14",
   "name": "xcpp14"
  },
  "language_info": {
   "codemirror_mode": "text/x-c++src",
   "file_extension": ".cpp",
   "mimetype": "text/x-c++src",
   "name": "c++",
   "version": "14"
  }
 },
 "nbformat": 4,
 "nbformat_minor": 4
}
