{
 "cells": [
  {
   "cell_type": "code",
   "execution_count": 1,
   "metadata": {
    "slideshow": {
     "slide_type": "skip"
    }
   },
   "outputs": [],
   "source": [
    "#include <iostream>\n",
    "using namespace std;"
   ]
  },
  {
   "cell_type": "markdown",
   "metadata": {
    "slideshow": {
     "slide_type": "slide"
    }
   },
   "source": [
    "#  A Brief Introduction to C++"
   ]
  },
  {
   "cell_type": "markdown",
   "metadata": {
    "slideshow": {
     "slide_type": "slide"
    }
   },
   "source": [
    "## Control Statements\n",
    "\n",
    "- Conditionals\n",
    "```cpp\n",
    "if ( expression ) {\n",
    "    // ...\n",
    "} else if ( expression ) {\n",
    "    // ...                   \n",
    "} else {                         \n",
    "    // ...                   \n",
    "}\n",
    "```\n",
    "- Loops\n",
    "```cpp\n",
    "for ( int i = 0; i < N; ++i ) {\n",
    "    // ...\n",
    "}\n",
    "while ( expression ) {\n",
    "    // ...\n",
    "}\n",
    "do {\n",
    "// ...\n",
    "} while ( expression );\n",
    "```"
   ]
  },
  {
   "cell_type": "markdown",
   "metadata": {
    "slideshow": {
     "slide_type": "slide"
    }
   },
   "source": [
    "## Arrays\t\n",
    "    \n",
    "- Declaring static arrays:  \n",
    "\n",
    "```cpp\n",
    "const int ARRAY_CAPACITY = 10; // prevents reassignment\n",
    "int array[ARRAY_CAPACITY];\n",
    "```\n",
    "\n",
    "- Accessing arrays:  \n",
    "   \n",
    "```cpp \n",
    "array[0] = 1;\n",
    "for ( int i = 1; i < ARRAY_CAPACITY; ++i ) {\n",
    "    array[i] = 2*array[i – 1] + 1;\n",
    "}\n",
    "```\n",
    "\n",
    "- Recall that arrays go from  0  to  ARRAY_CAPACITY – 1"
   ]
  },
  {
   "cell_type": "code",
   "execution_count": 9,
   "metadata": {
    "slideshow": {
     "slide_type": "slide"
    }
   },
   "outputs": [
    {
     "name": "stderr",
     "output_type": "stream",
     "text": [
      "\u001b[1minput_line_16:5:5: \u001b[0m\u001b[0;1;35mwarning: \u001b[0m\u001b[1marray index 10 is past the end of the array (which contains 10 elements)\n",
      "      [-Warray-bounds]\u001b[0m\n",
      "    array[10] = 1; \n",
      "\u001b[0;1;32m    ^     ~~\n",
      "\u001b[0m\u001b[1minput_line_16:4:5: \u001b[0m\u001b[0;1;30mnote: \u001b[0marray 'array' declared here\u001b[0m\n",
      "    int array[ARRAY_CAPACITY];\n",
      "\u001b[0;1;32m    ^\n",
      "\u001b[0m"
     ]
    },
    {
     "name": "stdout",
     "output_type": "stream",
     "text": [
      "589699328\n",
      "21976\n"
     ]
    }
   ],
   "source": [
    "{        \n",
    "    const int ARRAY_CAPACITY = 10; // prevents reassignment\n",
    "    int array[ARRAY_CAPACITY];\n",
    "    array[10] = 1; \n",
    "    cout << array[0] << endl;\n",
    "    cout << array[1] << endl;\n",
    "}"
   ]
  },
  {
   "cell_type": "markdown",
   "metadata": {
    "slideshow": {
     "slide_type": "slide"
    }
   },
   "source": [
    "## Functions\n",
    "\n",
    "- Function must be declared before usage:\n",
    "\n",
    "```cpp\n",
    "// A function with a global name\n",
    "int sqr( int n ) {\n",
    "    return n*n;\n",
    "}\n",
    "\n",
    "int main() {\n",
    "    cout << \"The square of 3 is \" << sqr(3) << endl;\n",
    "    return 0;\n",
    "}\n",
    "```"
   ]
  },
  {
   "cell_type": "markdown",
   "metadata": {
    "slideshow": {
     "slide_type": "slide"
    }
   },
   "source": [
    "## The C++ Preprocessor\n",
    "\n",
    "- C++ is based on C, which was written in the early 1970s\n",
    "\n",
    "- Any command starting with a `#` in the first column is not a C/C++ statement, but rather a preprocessor statement\n",
    "    - The preprocessor performed very basic text-based (or lexical) substitutions\n",
    "    - The output is sent to the compiler\n",
    "    \n",
    "- The sequence is:\n",
    "    - file (filename.cpp) → preprocessor → compiler (g++)\n",
    "\n",
    "- Note, this is done automatically by the compiler:  no additional steps are necessary\n",
    "\n",
    "- At the top of any C++ program, you will see one or more directives starting with a #, e.g.,\n",
    "    - `#include <iostream>`"
   ]
  },
  {
   "cell_type": "markdown",
   "metadata": {
    "slideshow": {
     "slide_type": "slide"
    }
   },
   "source": [
    "![](img/c-pproc.png)"
   ]
  },
  {
   "cell_type": "markdown",
   "metadata": {
    "slideshow": {
     "slide_type": "slide"
    }
   },
   "source": [
    "## Libraries\n",
    "\n",
    "- You will write your code in a file such as `Single_list.h` where you will implement a data structure\n",
    "\n",
    "- This file will be included in our tester file `Single_list_tester.h` with a statement such as:\n",
    "    - `#include \"Single_list.h\"`\n",
    "\n",
    "- The file `Single_list_int_driver.cpp` then includes the tester file:\n",
    "    - `#include \"Single_list_tester.h\"`"
   ]
  },
  {
   "cell_type": "markdown",
   "metadata": {
    "slideshow": {
     "slide_type": "slide"
    }
   },
   "source": [
    "## Libraries (cont.)\n",
    "\n",
    "- In this class, you will put all code in the header file\n",
    "\n",
    "- This is not normal practice:\n",
    "    - Usually the header (.h) file only contains declarations\n",
    "    - The definitions (the actual implementations) are stored in a related file and compiled into an object file"
   ]
  },
  {
   "cell_type": "markdown",
   "metadata": {
    "slideshow": {
     "slide_type": "slide"
    }
   },
   "source": [
    "![](img/c-pproc2.png)"
   ]
  },
  {
   "cell_type": "markdown",
   "metadata": {
    "slideshow": {
     "slide_type": "slide"
    }
   },
   "source": [
    "## Guards\n",
    "\n",
    "- With all these includes, it is always necessary to avoid the same file being included twice, otherwise you have duplicate definitions\n",
    "\n",
    "- This is done with guard statements:\n",
    "\n",
    "```cpp\n",
    "#ifndef SINGLE_LIST_H\n",
    "#define SINGLE_LIST_H\n",
    "\n",
    "template <typename Type>\n",
    "class Single_list {\n",
    "\t///...\n",
    "};\n",
    "\n",
    "#endif\n",
    "```"
   ]
  },
  {
   "cell_type": "markdown",
   "metadata": {
    "slideshow": {
     "slide_type": "slide"
    }
   },
   "source": [
    "## Code Structure\n",
    "\n",
    "- This class definition contains only the signatures (or prototypes) of the operations\n",
    "\n",
    "- The actual member function definitions may be defined elsewhere, either in:\n",
    "    - The same file, or\n",
    "    - Another file which is compiled into an object file"
   ]
  },
  {
   "cell_type": "markdown",
   "metadata": {
    "slideshow": {
     "slide_type": "slide"
    }
   },
   "source": [
    "## The File as the Unit of Compilation\n",
    "\n",
    "- In C/C++, the file is the base unit of compilation:\n",
    "    - Any `.cpp` file may be compiled into object code\n",
    "    - Only files containing an int main() function can be compiled into an executable\n",
    "\n",
    "- The signature of main is:\n",
    "\n",
    "```cpp\n",
    "int main () {\n",
    "    // does some stuff\n",
    "    return 0;\n",
    "}\n",
    "```\n",
    "\n",
    "- The operating system is expecting a return value\n",
    "    - Usually 0"
   ]
  },
  {
   "cell_type": "markdown",
   "metadata": {
    "slideshow": {
     "slide_type": "slide"
    }
   },
   "source": [
    "## The File as the Unit of Compilation (cont.)\n",
    "\n",
    "- If you add a function, declare its **prototype** first:\n",
    "\n",
    "```cpp\n",
    "#include<iostream>\n",
    "using namespace std;\n",
    "\n",
    "int sqr( int );// Function declaration (prototype)\n",
    "\n",
    "int main() {\n",
    "    cout << \"The square of 3 is \" << sqr(3) << endl;\n",
    "    return 0;\n",
    "}\n",
    "\n",
    "int sqr( int n ) { // Function definition\n",
    "    return n*n; // The definition can be in another file\n",
    "}\n",
    "```"
   ]
  },
  {
   "cell_type": "markdown",
   "metadata": {
    "slideshow": {
     "slide_type": "slide"
    }
   },
   "source": [
    "## Scope\n",
    "\n",
    "- Variables defined:\n",
    "    - In functions are local variables\n",
    "    - In classes are member variables\n",
    "    - Elsewhere are global variables\n",
    "\t\n",
    "- Functions defined:\n",
    "    - In classes are member functions\n",
    "    - Elsewhere are global functions\n",
    "\t\n",
    "- In all these cases, the keyword static can modify the scope"
   ]
  },
  {
   "cell_type": "markdown",
   "metadata": {
    "slideshow": {
     "slide_type": "slide"
    }
   },
   "source": [
    "## Namespaces\n",
    "\n",
    "- Global variables/variables cause problems, especially in large projects\n",
    "    - Hundreds of employees\n",
    "    - Dozens of projects\n",
    "    - Everyone wanting a function init()\n",
    "\n",
    "- In C++ (and XML), this is solved using **namespaces**"
   ]
  },
  {
   "cell_type": "markdown",
   "metadata": {
    "slideshow": {
     "slide_type": "slide"
    }
   },
   "source": [
    "## Namespaces (cont.)\n",
    "\n",
    "- A namespace adds an extra disambiguation between similar names\n",
    "\n",
    "```cpp\n",
    "namespace jjay_csci373 {\n",
    "    int n = 4;\n",
    "    double mean = 2.34567;\n",
    "\n",
    "    void init() {\n",
    "        // Does something...\n",
    "    }\n",
    "}\n",
    "```\n",
    "\t\n",
    "- There are two means of accessing these global variables and functions outside of this **namespace**:\n",
    "    - The namespace as a prefix: `jjay_csci373::init()`\n",
    "    - The using statement: `using namespace jjay_csci373;`"
   ]
  },
  {
   "cell_type": "markdown",
   "metadata": {
    "slideshow": {
     "slide_type": "slide"
    }
   },
   "source": [
    "## Classes\n",
    "\n",
    "- To begin, we will create a complex number class\n",
    "\t\n",
    "- To describe this class, we could use the following words:\n",
    "    - Store the real and imaginary components\n",
    "    - Allow the user to:\n",
    "        - Create a complex number\n",
    "        - Retrieve the real and imaginary parts\n",
    "        - Find the absolute value and the exponential value\n",
    "        - Normalize a non-zero complex number       "
   ]
  },
  {
   "cell_type": "markdown",
   "metadata": {
    "slideshow": {
     "slide_type": "slide"
    }
   },
   "source": [
    "## Classes (cont.)\n",
    "\n",
    "- Another way to summarize the properties of a class is through UML Class Diagrams\n",
    "\n",
    "![](img/cnum-uml.png)"
   ]
  },
  {
   "cell_type": "markdown",
   "metadata": {
    "slideshow": {
     "slide_type": "slide"
    }
   },
   "source": [
    "## Classes (cont.)\n",
    "    \n",
    "- An example of a C++ class declaration is following\n",
    "    - It does not provide an implementation"
   ]
  },
  {
   "cell_type": "code",
   "execution_count": 8,
   "metadata": {
    "slideshow": {
     "slide_type": "fragment"
    }
   },
   "outputs": [
    {
     "name": "stderr",
     "output_type": "stream",
     "text": [
      "\u001b[1minput_line_15:1:7: \u001b[0m\u001b[0;1;31merror: \u001b[0m\u001b[1mredefinition of 'Complex'\u001b[0m\n",
      "class Complex {\n",
      "\u001b[0;1;32m      ^\n",
      "\u001b[0m\u001b[1minput_line_14:1:7: \u001b[0m\u001b[0;1;30mnote: \u001b[0mprevious definition is here\u001b[0m\n",
      "class Complex {\n",
      "\u001b[0;1;32m      ^\n",
      "\u001b[0m"
     ]
    },
    {
     "ename": "Interpreter Error",
     "evalue": "",
     "output_type": "error",
     "traceback": [
      "Interpreter Error: "
     ]
    }
   ],
   "source": [
    "class Complex {\n",
    "    private:\n",
    "        double re, im;\n",
    "\n",
    "    public:\n",
    "        Complex( double = 0.0, double = 0.0 );\n",
    "\n",
    "        double real() const;\n",
    "        double imag() const;\n",
    "        double abs() const;\n",
    "        Complex exp() const;\n",
    "\n",
    "        void normalize();\n",
    "};"
   ]
  },
  {
   "cell_type": "markdown",
   "metadata": {
    "slideshow": {
     "slide_type": "slide"
    }
   },
   "source": [
    "## `Complex` Class"
   ]
  },
  {
   "cell_type": "code",
   "execution_count": 3,
   "metadata": {
    "slideshow": {
     "slide_type": "fragment"
    }
   },
   "outputs": [],
   "source": [
    "Complex::Complex( double r, double i ):re( r ), im( i ) {}"
   ]
  },
  {
   "cell_type": "code",
   "execution_count": 4,
   "metadata": {
    "slideshow": {
     "slide_type": "fragment"
    }
   },
   "outputs": [],
   "source": [
    "// return the real component\n",
    "double Complex::real() const {\n",
    "    return re;\n",
    "}"
   ]
  },
  {
   "cell_type": "code",
   "execution_count": 5,
   "metadata": {
    "slideshow": {
     "slide_type": "fragment"
    }
   },
   "outputs": [],
   "source": [
    "// return the imaginary component\n",
    "double Complex::imag() const {\n",
    "    return im;\n",
    "}"
   ]
  },
  {
   "cell_type": "code",
   "execution_count": 6,
   "metadata": {
    "slideshow": {
     "slide_type": "slide"
    }
   },
   "outputs": [],
   "source": [
    "// return the absolute value\n",
    "double Complex::abs() const {\n",
    "    return std::sqrt( re*re + im*im );\n",
    "}"
   ]
  },
  {
   "cell_type": "code",
   "execution_count": 7,
   "metadata": {
    "slideshow": {
     "slide_type": "fragment"
    }
   },
   "outputs": [],
   "source": [
    "// Return the exponential of the complex value\n",
    "Complex Complex::exp() const {\n",
    "    double exp_re = std::exp( re );\n",
    "\n",
    "    return Complex( exp_re*std::cos(im), exp_re*std::sin(im) );\n",
    "}"
   ]
  },
  {
   "cell_type": "code",
   "execution_count": 8,
   "metadata": {
    "slideshow": {
     "slide_type": "slide"
    }
   },
   "outputs": [],
   "source": [
    "// Normalize the complex number (giving it unit absolute value, |z| = 1)\n",
    "void Complex::normalize() {\n",
    "    if ( re == 0 && im == 0 ) {\n",
    "        return;\n",
    "    }\n",
    "\n",
    "    double absval = abs();\n",
    "    re /= absval;\n",
    "    im /= absval;\n",
    "}"
   ]
  },
  {
   "cell_type": "code",
   "execution_count": 14,
   "metadata": {
    "slideshow": {
     "slide_type": "slide"
    }
   },
   "outputs": [
    {
     "name": "stdout",
     "output_type": "stream",
     "text": [
      "Real: 1\n",
      "Im: 2\n",
      "Abs: 2.23607\n",
      "Real: -1.1312\n",
      "Im: 2.47173\n",
      "Real: 0.447214\n",
      "Im: 0.894427\n"
     ]
    }
   ],
   "source": [
    "{\n",
    "    Complex num{1,2};\n",
    "    cout << \"Real: \" << num.real() << endl;\n",
    "    cout << \"Im: \" << num.imag() << endl;\n",
    "    cout << \"Abs: \" << num.abs() << endl;\n",
    "    Complex expnum = num.exp();\n",
    "    cout << \"Real: \" << expnum.real() << endl;\n",
    "    cout << \"Im: \" << expnum.imag() << endl;\n",
    "    num.normalize();\n",
    "    cout << \"Real: \" << num.real() << endl;\n",
    "    cout << \"Im: \" << num.imag() << endl;\n",
    "}"
   ]
  },
  {
   "cell_type": "markdown",
   "metadata": {
    "slideshow": {
     "slide_type": "slide"
    }
   },
   "source": [
    "## Visibility\n",
    "\n",
    "- In C++, this is described by a block prefixed by one of the **access modifiers**\n",
    "    - private\n",
    "\t- protected\n",
    "\t- public"
   ]
  },
  {
   "cell_type": "markdown",
   "metadata": {
    "slideshow": {
     "slide_type": "slide"
    }
   },
   "source": [
    "## Frendship\n",
    "\n",
    "```cpp\n",
    "class ClassY;                   // declare that ClassY is a class\n",
    "\n",
    "class ClassX {\n",
    "    private:\n",
    "        int privy;              // the variable privy is private\n",
    "\n",
    "    friend class ClassY;        // ClassY is a \"friend\" of ClassX\n",
    "};\n",
    "\n",
    "class ClassY {                  // define ClassY\n",
    "    private:\n",
    "        ClassX value;           // Y stores one instance of X\n",
    "    public:\n",
    "        void set_x() {\n",
    "            value.privy = 42;   // a member function of ClassY can\n",
    "        }                       // access and modify the private\n",
    "};                              // member privy of \"value\"\n",
    "```"
   ]
  },
  {
   "cell_type": "markdown",
   "metadata": {
    "slideshow": {
     "slide_type": "slide"
    }
   },
   "source": [
    "## Accessors and Mutators\n",
    "\n",
    "- We can classify member functions into two categories:\n",
    "    - Those leaving the object unchanged\n",
    "    - Those modifying the member variables of the object\n",
    "\t\n",
    "- Respectively, these are referred to as:\n",
    "    - **Accessors:** we are accessing and using the class members\n",
    "    - **Mutators:**\twe are changing/mutating the class members"
   ]
  },
  {
   "cell_type": "markdown",
   "metadata": {
    "slideshow": {
     "slide_type": "slide"
    }
   },
   "source": [
    "## Accessors and Mutators (cont.)\n",
    "\n",
    "- Good programming practice is to enforce that a routine specified to be an accessor **cannot** be accidentally changed to a mutator\n",
    "    - This is done with the const keyword after the parameter list\n",
    "        - double abs() const;"
   ]
  },
  {
   "cell_type": "code",
   "execution_count": 17,
   "metadata": {
    "slideshow": {
     "slide_type": "fragment"
    }
   },
   "outputs": [
    {
     "name": "stderr",
     "output_type": "stream",
     "text": [
      "\u001b[1minput_line_24:1:17: \u001b[0m\u001b[0;1;31merror: \u001b[0m\u001b[1mredefinition of 'abs'\u001b[0m\n",
      "double Complex::abs() const {\n",
      "\u001b[0;1;32m                ^\n",
      "\u001b[0m\u001b[1minput_line_13:2:17: \u001b[0m\u001b[0;1;30mnote: \u001b[0mprevious definition is here\u001b[0m\n",
      "double Complex::abs() const {\n",
      "\u001b[0;1;32m                ^\n",
      "\u001b[0m\u001b[1minput_line_24:2:8: \u001b[0m\u001b[0;1;31merror: \u001b[0m\u001b[1mcannot assign to non-static data member within const member function 'abs'\u001b[0m\n",
      "    re = 1.0;            // modifying (mutating) 're'\n",
      "\u001b[0;1;32m    ~~ ^\n",
      "\u001b[0m\u001b[1minput_line_24:1:17: \u001b[0m\u001b[0;1;30mnote: \u001b[0mmember function 'Complex::abs' is declared const here\u001b[0m\n",
      "double Complex::abs() const {\n",
      "\u001b[0;1;32m~~~~~~~~~~~~~~~~^~~~~~~~~~~\n",
      "\u001b[0m"
     ]
    },
    {
     "ename": "Interpreter Error",
     "evalue": "",
     "output_type": "error",
     "traceback": [
      "Interpreter Error: "
     ]
    }
   ],
   "source": [
    "double Complex::abs() const {\n",
    "    re = 1.0;            // modifying (mutating) 're'\n",
    "    return std::sqrt( re*re + im*im );\n",
    "}"
   ]
  },
  {
   "cell_type": "markdown",
   "metadata": {
    "slideshow": {
     "slide_type": "fragment"
    }
   },
   "source": [
    "## Templates\n",
    "\n",
    "- Suppose you want to build a general linked list which could hold anything\n",
    "    - Because there is no ultimate common type, to avoid re-implementing each class for each class we are interested in storing, we must have a different mechanism\n",
    "    \n",
    "- This mechanism uses a tool called **templates**\n",
    "    - A function has parameters which are of a specific type\n",
    "    - A template is like a function, however, the parameters themselves are types   \n",
    "    \n",
    "```cpp\n",
    "template <typename Type>\n",
    "Type sqr( Type x ) {\n",
    "    return x*x;\n",
    "} \n",
    "```"
   ]
  },
  {
   "cell_type": "markdown",
   "metadata": {
    "slideshow": {
     "slide_type": "fragment"
    }
   },
   "source": []
  }
 ],
 "metadata": {
  "celltoolbar": "Slideshow",
  "kernelspec": {
   "display_name": "C++17",
   "language": "C++17",
   "name": "xcpp17"
  },
  "language_info": {
   "codemirror_mode": "text/x-c++src",
   "file_extension": ".cpp",
   "mimetype": "text/x-c++src",
   "name": "c++",
   "version": "-std=c++17"
  },
  "rise": {
   "enable_chalkboard": true
  }
 },
 "nbformat": 4,
 "nbformat_minor": 4
}
